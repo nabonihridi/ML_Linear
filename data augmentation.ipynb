{
 "cells": [
  {
   "cell_type": "code",
   "execution_count": 11,
   "id": "7b9dae48-5569-4a88-8595-298414e4a683",
   "metadata": {},
   "outputs": [],
   "source": [
    "from tensorflow.keras.preprocessing.image import ImageDataGenerator, array_to_img,img_to_array,load_img\n",
    "import os\n",
    "\n",
    "input_folder = r\"F:\\Scabies_3\\Train_1\\infected_1\"  # Folder with raw images\n",
    "output_folder = r\"F:\\Scabies_3\\Train\\infected\"  # Folder to save augmented images\n",
    "os.makedirs(output_folder, exist_ok=True)\n",
    "\n",
    "\n",
    "datagen = ImageDataGenerator(\n",
    "    rescale=1.0 / 255,        # Normalize pixel values\n",
    "    rotation_range=10,        # Random rotation within 40 degrees\n",
    "    width_shift_range=0.05,    # Horizontal shift\n",
    "    height_shift_range=0.05,   # Vertical shift\n",
    "    shear_range=0.05,          # Shearing\n",
    "    zoom_range=0.05,           # Zoom\n",
    "    horizontal_flip=True,     # Flip horizontally\n",
    "    fill_mode='nearest'       # Fill empty areas with nearest pixels\n",
    ")"
   ]
  },
  {
   "cell_type": "code",
   "execution_count": 12,
   "id": "621f4afa-02ad-4c3b-85ad-211a53c07335",
   "metadata": {},
   "outputs": [],
   "source": [
    "for filename in os.listdir(input_folder):\n",
    "    # Get full file path\n",
    "    file_path = os.path.join(input_folder, filename)\n",
    "\n",
    "    # Check if it's an image file\n",
    "    if not filename.lower().endswith(('png', 'jpg', 'jpeg')):\n",
    "        continue  # Skip non-image files\n",
    "\n",
    "    # Load and preprocess image\n",
    "    img = load_img(file_path)  # Load image as PIL object\n",
    "    x = img_to_array(img)      # Convert to NumPy array\n",
    "    x = x.reshape((1,) + x.shape)  # Reshape to include batch dimension\n",
    "\n",
    "    # Augment and Save Images\n",
    "    save_prefix = os.path.splitext(filename)[0]  # Use filename as prefix\n",
    "    i = 0\n",
    "    for batch in datagen.flow(x, batch_size=1, save_to_dir=output_folder, save_prefix=save_prefix, save_format='jpeg'):\n",
    "        i += 1\n",
    "        if i > 4:  # Generate 5 augmented images per original image\n",
    "            break"
   ]
  },
  {
   "cell_type": "code",
   "execution_count": null,
   "id": "cbe800d3-3fed-4a5f-8d19-eb5fc561890b",
   "metadata": {},
   "outputs": [],
   "source": []
  }
 ],
 "metadata": {
  "kernelspec": {
   "display_name": "Python 3 (ipykernel)",
   "language": "python",
   "name": "python3"
  },
  "language_info": {
   "codemirror_mode": {
    "name": "ipython",
    "version": 3
   },
   "file_extension": ".py",
   "mimetype": "text/x-python",
   "name": "python",
   "nbconvert_exporter": "python",
   "pygments_lexer": "ipython3",
   "version": "3.12.6"
  }
 },
 "nbformat": 4,
 "nbformat_minor": 5
}
